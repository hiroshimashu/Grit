{
 "cells": [
  {
   "cell_type": "code",
   "execution_count": 65,
   "metadata": {
    "collapsed": false
   },
   "outputs": [
    {
     "name": "stdout",
     "output_type": "stream",
     "text": [
      "{b'data': array([[[ 1.,  1.,  1., ...,  1.,  1.,  1.],\n",
      "        [ 1.,  1.,  1., ...,  1.,  1.,  1.],\n",
      "        [ 1.,  1.,  1., ...,  1.,  1.,  1.],\n",
      "        ..., \n",
      "        [ 1.,  1.,  1., ...,  1.,  1.,  1.],\n",
      "        [ 1.,  1.,  1., ...,  1.,  1.,  1.],\n",
      "        [ 1.,  1.,  1., ...,  1.,  1.,  1.]],\n",
      "\n",
      "       [[ 1.,  1.,  1., ...,  1.,  1.,  1.],\n",
      "        [ 1.,  1.,  1., ...,  1.,  1.,  1.],\n",
      "        [ 1.,  1.,  1., ...,  1.,  1.,  1.],\n",
      "        ..., \n",
      "        [ 1.,  1.,  1., ...,  1.,  1.,  1.],\n",
      "        [ 1.,  1.,  1., ...,  1.,  1.,  1.],\n",
      "        [ 1.,  1.,  1., ...,  1.,  1.,  1.]],\n",
      "\n",
      "       [[ 1.,  1.,  1., ...,  1.,  1.,  1.],\n",
      "        [ 1.,  1.,  1., ...,  1.,  1.,  1.],\n",
      "        [ 1.,  1.,  1., ...,  1.,  1.,  1.],\n",
      "        ..., \n",
      "        [ 1.,  1.,  1., ...,  1.,  1.,  1.],\n",
      "        [ 1.,  1.,  1., ...,  1.,  1.,  1.],\n",
      "        [ 1.,  1.,  1., ...,  1.,  1.,  1.]],\n",
      "\n",
      "       ..., \n",
      "       [[ 1.,  1.,  1., ...,  1.,  1.,  1.],\n",
      "        [ 1.,  1.,  1., ...,  1.,  1.,  1.],\n",
      "        [ 1.,  1.,  1., ...,  1.,  1.,  1.],\n",
      "        ..., \n",
      "        [ 1.,  1.,  1., ...,  1.,  1.,  1.],\n",
      "        [ 1.,  1.,  1., ...,  1.,  1.,  1.],\n",
      "        [ 1.,  1.,  1., ...,  1.,  1.,  1.]],\n",
      "\n",
      "       [[ 1.,  1.,  1., ...,  1.,  1.,  1.],\n",
      "        [ 1.,  1.,  1., ...,  1.,  1.,  1.],\n",
      "        [ 1.,  1.,  1., ...,  1.,  1.,  1.],\n",
      "        ..., \n",
      "        [ 1.,  1.,  1., ...,  1.,  1.,  1.],\n",
      "        [ 1.,  1.,  1., ...,  1.,  1.,  1.],\n",
      "        [ 1.,  1.,  1., ...,  1.,  1.,  1.]],\n",
      "\n",
      "       [[ 1.,  1.,  1., ...,  1.,  1.,  1.],\n",
      "        [ 1.,  1.,  1., ...,  1.,  1.,  1.],\n",
      "        [ 1.,  1.,  1., ...,  1.,  1.,  1.],\n",
      "        ..., \n",
      "        [ 1.,  1.,  1., ...,  1.,  1.,  1.],\n",
      "        [ 1.,  1.,  1., ...,  1.,  1.,  1.],\n",
      "        [ 1.,  1.,  1., ...,  1.,  1.,  1.]]]), b'target': array([34, 34, 34, ..., 17, 17, 17]), b'letter': ['あ', 'い', 'う', 'え', 'お', 'か', 'き', 'く', 'け', 'こ', 'さ', 'し', 'す', 'せ', 'そ', 'た', 'ち', 'つ', 'て', 'と', 'な', 'に', 'ぬ', 'ね', 'の', 'は', 'ひ', 'ふ', 'へ', 'ほ', 'ま', 'み', 'む', 'め', 'も', 'や', 'ゆ', 'よ', 'ら', 'り', 'る', 'れ', 'ろ', 'わ', 'ゐ', 'ゑ', 'を', 'ん']}\n",
      "[[ 1.  1.  1. ...,  1.  1.  1.]\n",
      " [ 1.  1.  1. ...,  1.  1.  1.]\n",
      " [ 1.  1.  1. ...,  1.  1.  1.]\n",
      " ..., \n",
      " [ 1.  1.  1. ...,  1.  1.  1.]\n",
      " [ 1.  1.  1. ...,  1.  1.  1.]\n",
      " [ 1.  1.  1. ...,  1.  1.  1.]]\n",
      "[34 34 34 ..., 17 17 17]\n",
      "['あ', 'い', 'う', 'え', 'お', 'か', 'き', 'く', 'け', 'こ', 'さ', 'し', 'す', 'せ', 'そ', 'た', 'ち', 'つ', 'て', 'と', 'な', 'に', 'ぬ', 'ね', 'の', 'は', 'ひ', 'ふ', 'へ', 'ほ', 'ま', 'み', 'む', 'め', 'も', 'や', 'ゆ', 'よ', 'ら', 'り', 'る', 'れ', 'ろ', 'わ', 'ゐ', 'ゑ', 'を', 'ん']\n"
     ]
    }
   ],
   "source": [
    "## encoding: utf-8\n",
    "import pickle\n",
    "\n",
    "\n",
    "with open(\"./fonts.dat\", 'rb') as f:\n",
    "    ind = pickle.load(f, encoding = 'bytes')  \n",
    "    print(ind)\n",
    "X = ind[b\"data\"] \n",
    "##X = X.reshape(-1,1,48,48)\n",
    "X = X.reshape(-1, X.shape[1] * X.shape[2]) \n",
    "\n",
    "print(X)\n",
    "Y = ind[b\"target\"] \n",
    "print(Y)\n",
    "fonts_name = ind[b\"letter\"] \n",
    "print(fonts_name)"
   ]
  },
  {
   "cell_type": "code",
   "execution_count": 32,
   "metadata": {
    "collapsed": false
   },
   "outputs": [
    {
     "data": {
      "text/plain": [
       "(1180, 2304)"
      ]
     },
     "execution_count": 32,
     "metadata": {},
     "output_type": "execute_result"
    }
   ],
   "source": [
    "X.shape"
   ]
  },
  {
   "cell_type": "code",
   "execution_count": 33,
   "metadata": {
    "collapsed": false
   },
   "outputs": [
    {
     "data": {
      "text/plain": [
       "(1180,)"
      ]
     },
     "execution_count": 33,
     "metadata": {},
     "output_type": "execute_result"
    }
   ],
   "source": [
    "Y.shape  "
   ]
  },
  {
   "cell_type": "code",
   "execution_count": 67,
   "metadata": {
    "collapsed": false,
    "scrolled": false
   },
   "outputs": [
    {
     "name": "stdout",
     "output_type": "stream",
     "text": [
      "[[ 1.  1.  1. ...,  1.  1.  1.]\n",
      " [ 1.  1.  1. ...,  1.  1.  1.]\n",
      " [ 1.  1.  1. ...,  1.  1.  1.]\n",
      " ..., \n",
      " [ 1.  1.  1. ...,  1.  1.  1.]\n",
      " [ 1.  1.  1. ...,  1.  1.  1.]\n",
      " [ 1.  1.  1. ...,  1.  1.  1.]]\n",
      "[[ 1.  1.  1. ...,  1.  1.  1.]\n",
      " [ 1.  1.  1. ...,  1.  1.  1.]\n",
      " [ 1.  1.  1. ...,  1.  1.  1.]\n",
      " ..., \n",
      " [ 1.  1.  1. ...,  1.  1.  1.]\n",
      " [ 1.  1.  1. ...,  1.  1.  1.]\n",
      " [ 1.  1.  1. ...,  1.  1.  1.]]\n",
      "(944, 2304)\n",
      "[[0 0 0 ..., 0 0 0]\n",
      " [0 0 0 ..., 0 0 0]\n",
      " [0 0 0 ..., 0 0 0]\n",
      " ..., \n",
      " [0 0 0 ..., 0 0 0]\n",
      " [0 0 0 ..., 0 0 0]\n",
      " [0 0 0 ..., 0 0 0]]\n",
      "[[0 0 0 ..., 0 0 0]\n",
      " [0 0 0 ..., 0 0 0]\n",
      " [0 0 0 ..., 0 0 0]\n",
      " ..., \n",
      " [0 0 0 ..., 0 1 0]\n",
      " [0 0 0 ..., 0 0 0]\n",
      " [0 0 0 ..., 0 0 0]]\n",
      "(944, 48)\n"
     ]
    }
   ],
   "source": [
    "import numpy as np\n",
    "import matplotlib.pyplot as plt \n",
    "from common.functions import *\n",
    "\n",
    "from sklearn import preprocessing\n",
    "from sklearn.datasets import fetch_mldata\n",
    "from sklearn.model_selection import train_test_split \n",
    "from sklearn.metrics import confusion_matrix\n",
    "from sklearn.metrics import classification_report\n",
    "\n",
    "\n",
    "x_train, x_test, y_train_label, y_test_label = train_test_split(X, Y, test_size=0.20) \n",
    "x_train = x_train.astype(np.float32) \n",
    "##x_test = preprocessing.normalize(x_test) \n",
    "x_test = x_test.astype(np.float32) \n",
    "##x_test = preprocessing.normalize(x_test) \n",
    "print(x_train) \n",
    "print(x_test) \n",
    "\n",
    "y_train = preprocessing.LabelBinarizer().fit_transform(y_train_label)\n",
    "y_test = preprocessing.LabelBinarizer().fit_transform(y_test_label) \n",
    "print(x_train.shape)\n",
    "print(y_train) \n",
    "print(y_test) \n",
    "print(y_train.shape)"
   ]
  },
  {
   "cell_type": "code",
   "execution_count": 68,
   "metadata": {
    "collapsed": false,
    "scrolled": false
   },
   "outputs": [
    {
     "name": "stdout",
     "output_type": "stream",
     "text": [
      "472.0\n",
      "epoch:0, train acc:0.0233050847458, test acc:0.0127118644068, elapsed:0.02716207504272461[sec]\n",
      "epoch:1, train acc:0.0254237288136, test acc:0.00423728813559, elapsed:0.02215099334716797[sec]\n",
      "epoch:2, train acc:0.0455508474576, test acc:0.0423728813559, elapsed:0.026228904724121094[sec]\n",
      "epoch:3, train acc:0.0455508474576, test acc:0.0127118644068, elapsed:0.021975994110107422[sec]\n",
      "epoch:4, train acc:0.0254237288136, test acc:0.00423728813559, elapsed:0.020495891571044922[sec]\n",
      "epoch:5, train acc:0.0222457627119, test acc:0.0169491525424, elapsed:0.021385908126831055[sec]\n",
      "epoch:6, train acc:0.0444915254237, test acc:0.0381355932203, elapsed:0.021019935607910156[sec]\n",
      "epoch:7, train acc:0.0625, test acc:0.0338983050847, elapsed:0.02534198760986328[sec]\n",
      "epoch:8, train acc:0.120762711864, test acc:0.0889830508475, elapsed:0.02031397819519043[sec]\n",
      "epoch:9, train acc:0.165254237288, test acc:0.118644067797, elapsed:0.020859956741333008[sec]\n",
      "epoch:10, train acc:0.166313559322, test acc:0.10593220339, elapsed:0.020771026611328125[sec]\n",
      "epoch:11, train acc:0.359110169492, test acc:0.305084745763, elapsed:0.02008223533630371[sec]\n",
      "epoch:12, train acc:0.485169491525, test acc:0.35593220339, elapsed:0.021633148193359375[sec]\n",
      "epoch:13, train acc:0.29343220339, test acc:0.169491525424, elapsed:0.021589994430541992[sec]\n"
     ]
    },
    {
     "data": {
      "image/png": "[encoded data removed]",
      "text/plain": [
       "<matplotlib.figure.Figure at 0x1246122b0>"
      ]
     },
     "metadata": {},
     "output_type": "display_data"
    }
   ],
   "source": [
    "import time\n",
    "from common.multi_layer_net_extend import MultiLayerNetExtend\n",
    "from common.optimizer import * \n",
    "\n",
    "weight_decay_lambda = 0 \n",
    "network = MultiLayerNetExtend(input_size=2304, hidden_size_list=[100, 100], output_size=48,\n",
    "                        activation = \"sigmoid\",weight_decay_lambda = weight_decay_lambda)\n",
    "optimizer = Momentum(lr=0.0045)  \n",
    "\n",
    "max_epochs = 14\n",
    "train_size = x_train.shape[0] \n",
    "batch_size = 2\n",
    "\n",
    "train_loss_list = []\n",
    "train_acc_list = []\n",
    "test_acc_list = [] \n",
    "\n",
    "iter_per_epoch = max(train_size / batch_size, 1)  \n",
    "print(iter_per_epoch)\n",
    "\n",
    "epoch_cnt = 0 \n",
    "\n",
    "for i in range(100000):\n",
    "    start = time.time()\n",
    "    batch_mask = np.random.choice(train_size, batch_size) \n",
    "    x_batch = x_train[batch_mask] \n",
    "    y_batch = y_train[batch_mask]\n",
    "    \n",
    "    grads = network.gradient(x_batch, y_batch)\n",
    "    optimizer.update(network.params, grads)\n",
    "\n",
    "    if i % iter_per_epoch == 0:\n",
    "        train_acc = network.accuracy(x_train, y_train)\n",
    "        test_acc = network.accuracy(x_test, y_test)\n",
    "        train_acc_list.append(train_acc)\n",
    "        test_acc_list.append(test_acc) \n",
    "        end = time.time() - start\n",
    "\n",
    "        print(\"epoch:\" + str(epoch_cnt) + \", train acc:\" + str(train_acc) + \", test acc:\" + str(test_acc) + \", elapsed:{}\".format(end) + \"[sec]\")\n",
    "\n",
    "\n",
    "        epoch_cnt += 1\n",
    "        if epoch_cnt >= max_epochs:\n",
    "            break \n",
    "\n",
    "\n",
    "markers = {'train': 'o', 'test': 's'}\n",
    "x = np.arange(max_epochs)\n",
    "plt.plot(x, train_acc_list, marker='o', label='train', markevery=10)\n",
    "plt.plot(x, test_acc_list, marker='s', label='test', markevery=10)\n",
    "plt.xlabel(\"epochs\")\n",
    "plt.ylabel(\"accuracy\")\n",
    "plt.ylim(0, 1.0)\n",
    "plt.legend(loc='lower right')\n",
    "plt.show()     \n"
   ]
  },
  {
   "cell_type": "code",
   "execution_count": 41,
   "metadata": {
    "collapsed": false,
    "scrolled": false
   },
   "outputs": [
    {
     "name": "stdout",
     "output_type": "stream",
     "text": [
      "val acc:0.0661764705882 | lr:0.0015738890292043013, weight decay:1.3476001772763312e-05\n",
      "val acc:0.0294117647059 | lr:0.0030168216044494235, weight decay:3.362844802017743e-07\n",
      "val acc:0.0367647058824 | lr:2.495594041904265e-06, weight decay:6.867446992152853e-08\n",
      "val acc:0.0 | lr:0.0002923350069879993, weight decay:1.738996523568113e-05\n",
      "val acc:0.0147058823529 | lr:1.437331243441881e-05, weight decay:2.191082940434297e-06\n",
      "val acc:0.0147058823529 | lr:0.003942939839475663, weight decay:3.949986498111812e-07\n",
      "val acc:0.0147058823529 | lr:0.004275062745819658, weight decay:2.962564111875712e-08\n",
      "val acc:0.0 | lr:5.572814779120848e-05, weight decay:1.0835999759407789e-05\n",
      "val acc:0.00735294117647 | lr:4.576395059700132e-06, weight decay:1.3594782522109195e-07\n",
      "val acc:0.00735294117647 | lr:0.0007772378982621746, weight decay:7.262191507000238e-06\n",
      "val acc:0.0220588235294 | lr:0.0006976175001938062, weight decay:6.516382812473529e-08\n",
      "val acc:0.0588235294118 | lr:0.0006376154201668761, weight decay:1.4289067088131324e-07\n",
      "val acc:0.0294117647059 | lr:2.2172063704614697e-05, weight decay:2.9485749587430216e-06\n",
      "val acc:0.0441176470588 | lr:2.7410208062928296e-05, weight decay:5.353181802610288e-07\n",
      "val acc:0.0220588235294 | lr:0.0013588858971669755, weight decay:3.7594878186915997e-06\n",
      "val acc:0.0 | lr:8.78678127847975e-05, weight decay:4.348298167413913e-07\n",
      "val acc:0.0220588235294 | lr:0.00015329102818502604, weight decay:6.542118789529448e-08\n",
      "val acc:0.0220588235294 | lr:0.008331893988733437, weight decay:2.2658762181545428e-07\n",
      "val acc:0.0 | lr:8.283720522504133e-05, weight decay:3.8024560131685685e-06\n",
      "val acc:0.00735294117647 | lr:0.002748526550719848, weight decay:3.1537843519810184e-08\n",
      "val acc:0.0367647058824 | lr:0.0037286495064920724, weight decay:1.2421049984151646e-06\n",
      "val acc:0.0367647058824 | lr:2.502625741772833e-05, weight decay:4.134225964608186e-08\n",
      "val acc:0.0441176470588 | lr:1.2431584845989395e-05, weight decay:6.317869192216578e-08\n",
      "val acc:0.0367647058824 | lr:8.645993436047504e-06, weight decay:1.5314558750761713e-06\n",
      "val acc:0.00735294117647 | lr:1.3590490783989389e-05, weight decay:5.976235593463651e-07\n",
      "val acc:0.0661764705882 | lr:2.0604946904227033e-05, weight decay:7.114560028820113e-05\n",
      "val acc:0.0220588235294 | lr:0.0018853567480673881, weight decay:3.243092518734731e-05\n",
      "val acc:0.0294117647059 | lr:6.19420059294385e-06, weight decay:9.614736918514442e-06\n",
      "val acc:0.0147058823529 | lr:1.054491493274914e-06, weight decay:8.57167587322943e-06\n",
      "val acc:0.0147058823529 | lr:5.084844509857529e-05, weight decay:3.180233733978067e-05\n",
      "val acc:0.0220588235294 | lr:3.509839242868766e-05, weight decay:2.7552450791104896e-08\n",
      "val acc:0.00735294117647 | lr:1.1179350424896761e-05, weight decay:1.609385692464705e-05\n",
      "val acc:0.0514705882353 | lr:0.0003346891780226499, weight decay:6.246176240408909e-08\n",
      "val acc:0.0367647058824 | lr:0.006943614834969039, weight decay:3.0074011391202865e-05\n",
      "val acc:0.00735294117647 | lr:0.000158458950765236, weight decay:8.225986913777069e-05\n",
      "val acc:0.0220588235294 | lr:7.844701202488486e-05, weight decay:1.2494681932362362e-07\n",
      "val acc:0.0 | lr:2.3500815545359627e-05, weight decay:8.928486452148958e-06\n",
      "val acc:0.0147058823529 | lr:0.003439988004015941, weight decay:1.2536418204302355e-05\n",
      "val acc:0.0147058823529 | lr:0.0005532895294890312, weight decay:1.0694365051181954e-08\n",
      "val acc:0.0220588235294 | lr:0.007805243062674878, weight decay:5.1184221937478806e-08\n",
      "val acc:0.0147058823529 | lr:0.00506550708538294, weight decay:2.504633720895885e-07\n",
      "val acc:0.0220588235294 | lr:4.467287447934922e-05, weight decay:2.9802743485795075e-05\n",
      "val acc:0.0147058823529 | lr:0.0006545725910103601, weight decay:1.1679853100661082e-05\n",
      "val acc:0.0367647058824 | lr:2.0206763187459596e-05, weight decay:1.6723187709224087e-06\n",
      "val acc:0.0147058823529 | lr:3.7573197766349585e-06, weight decay:1.0094157187036167e-07\n",
      "val acc:0.0147058823529 | lr:8.099882031096952e-06, weight decay:2.143042314508701e-06\n",
      "val acc:0.0367647058824 | lr:0.002677156933434494, weight decay:1.3953535845653136e-06\n",
      "val acc:0.0367647058824 | lr:0.00012606078489207443, weight decay:4.5887979776197156e-07\n",
      "val acc:0.0294117647059 | lr:1.281693658523439e-05, weight decay:8.018073325661355e-08\n",
      "val acc:0.0294117647059 | lr:5.819961981928614e-06, weight decay:8.66964803062731e-06\n",
      "Best-1(val acc:0.0661764705882) | lr:2.0604946904227033e-05, weight decay:7.114560028820113e-05\n",
      "Best-2(val acc:0.0661764705882) | lr:0.0015738890292043013, weight decay:1.3476001772763312e-05\n",
      "Best-3(val acc:0.0588235294118) | lr:0.0006376154201668761, weight decay:1.4289067088131324e-07\n",
      "Best-4(val acc:0.0514705882353) | lr:0.0003346891780226499, weight decay:6.246176240408909e-08\n",
      "Best-5(val acc:0.0441176470588) | lr:2.7410208062928296e-05, weight decay:5.353181802610288e-07\n",
      "Best-6(val acc:0.0441176470588) | lr:1.2431584845989395e-05, weight decay:6.317869192216578e-08\n",
      "Best-7(val acc:0.0367647058824) | lr:0.002677156933434494, weight decay:1.3953535845653136e-06\n",
      "Best-8(val acc:0.0367647058824) | lr:0.0037286495064920724, weight decay:1.2421049984151646e-06\n",
      "Best-9(val acc:0.0367647058824) | lr:0.00012606078489207443, weight decay:4.5887979776197156e-07\n",
      "Best-10(val acc:0.0367647058824) | lr:2.502625741772833e-05, weight decay:4.134225964608186e-08\n",
      "Best-11(val acc:0.0367647058824) | lr:0.006943614834969039, weight decay:3.0074011391202865e-05\n",
      "Best-12(val acc:0.0367647058824) | lr:2.495594041904265e-06, weight decay:6.867446992152853e-08\n",
      "Best-13(val acc:0.0367647058824) | lr:8.645993436047504e-06, weight decay:1.5314558750761713e-06\n",
      "Best-14(val acc:0.0367647058824) | lr:2.0206763187459596e-05, weight decay:1.6723187709224087e-06\n",
      "Best-15(val acc:0.0294117647059) | lr:6.19420059294385e-06, weight decay:9.614736918514442e-06\n",
      "Best-16(val acc:0.0294117647059) | lr:0.0030168216044494235, weight decay:3.362844802017743e-07\n",
      "Best-17(val acc:0.0294117647059) | lr:2.2172063704614697e-05, weight decay:2.9485749587430216e-06\n",
      "Best-18(val acc:0.0294117647059) | lr:5.819961981928614e-06, weight decay:8.66964803062731e-06\n",
      "Best-19(val acc:0.0294117647059) | lr:1.281693658523439e-05, weight decay:8.018073325661355e-08\n",
      "Best-20(val acc:0.0220588235294) | lr:4.467287447934922e-05, weight decay:2.9802743485795075e-05\n"
     ]
    },
    {
     "data": {
      "image/png": "[encoded data removed]",
      "text/plain": [
       "<matplotlib.figure.Figure at 0x1198c99e8>"
      ]
     },
     "metadata": {},
     "output_type": "display_data"
    }
   ],
   "source": [
    "# coding: utf-8 \n",
    "    \n",
    "    \n",
    "## cross-validation \n",
    "  \n",
    "import sys, os\n",
    "sys.path.append(os.pardir) \n",
    "import numpy as np\n",
    "import matplotlib.pyplot as plt\n",
    "from common.multi_layer_net import MultiLayerNet\n",
    "from common.util import shuffle_dataset\n",
    "from common.trainer import Trainer \n",
    "\n",
    "validation_rate = 0.20\n",
    "validation_num = int(x_train.shape[0] * validation_rate)\n",
    "x_train, y_train = shuffle_dataset(x_train,y_train)\n",
    "x_val = x_train[:validation_num]\n",
    "y_val = y_train[:validation_num]\n",
    "x_train = x_train[validation_num:]\n",
    "y_train = y_train[validation_num:] \n",
    "\n",
    "def __train(lr, weight_decay, epocs=30):\n",
    "    network = MultiLayerNet(input_size=2304, hidden_size_list=[100,100,100],\n",
    "                            output_size=48, activation = \"relu\",weight_decay_lambda=weight_decay)\n",
    "    trainer = Trainer(network, x_train, y_train, x_val, y_val,\n",
    "                      epochs=epocs, mini_batch_size=100,\n",
    "                      optimizer='adam', optimizer_param={'lr': lr}, verbose=False)\n",
    "    trainer.train()\n",
    "\n",
    "    return trainer.test_acc_list, trainer.train_acc_list\n",
    "\n",
    "\n",
    "optimization_trial = 50\n",
    "results_val = {}\n",
    "results_train = {}  \n",
    "for _ in range(optimization_trial):\n",
    "    # 探索したハイパーパラメータの範囲を指定===============\n",
    "    weight_decay = 10 ** np.random.uniform(-8, -4)\n",
    "    lr = 10 ** np.random.uniform(-6, -2)\n",
    "    # ================================================\n",
    "\n",
    "    val_acc_list, train_acc_list = __train(lr, weight_decay)\n",
    "    print(\"val acc:\" + str(val_acc_list[-1]) + \" | lr:\" + str(lr) + \", weight decay:\" + str(weight_decay))\n",
    "    key = \"lr:\" + str(lr) + \", weight decay:\" + str(weight_decay)\n",
    "    results_val[key] = val_acc_list\n",
    "    results_train[key] = train_acc_list\n",
    "\n",
    "graph_draw_num = 20\n",
    "col_num = 5\n",
    "row_num = int(np.ceil(graph_draw_num / col_num))\n",
    "i = 0\n",
    "\n",
    "for key, val_acc_list in sorted(results_val.items(), key=lambda x:x[1][-1], reverse=True):\n",
    "    print(\"Best-\" + str(i+1) + \"(val acc:\" + str(val_acc_list[-1]) + \") | \" + key)\n",
    "\n",
    "    plt.subplot(row_num, col_num, i+1)\n",
    "    plt.title(\"Best-\" + str(i+1))\n",
    "    plt.ylim(0.0, 1.0)\n",
    "    if i % 5: plt.yticks([])\n",
    "    plt.xticks([])\n",
    "    x = np.arange(len(val_acc_list))\n",
    "    plt.plot(x, val_acc_list)\n",
    "    plt.plot(x, results_train[key], \"--\")\n",
    "    i += 1\n",
    "\n",
    "    if i >= graph_draw_num:\n",
    "        break\n",
    "\n",
    "plt.show()\n",
    "\n",
    "\n",
    "\n",
    "\n"
   ]
  },
  {
   "cell_type": "code",
   "execution_count": 25,
   "metadata": {
    "collapsed": false
   },
   "outputs": [
    {
     "ename": "IndexError",
     "evalue": "shape mismatch: indexing arrays could not be broadcast together with shapes (100,) (100,48) ",
     "output_type": "error",
     "traceback": [
      "\u001b[0;31m--------------------------------------------------------------------------\u001b[0m",
      "\u001b[0;31mIndexError\u001b[0m                               Traceback (most recent call last)",
      "\u001b[0;32m<ipython-input-25-d3d1a55ad082>\u001b[0m in \u001b[0;36m<module>\u001b[0;34m()\u001b[0m\n\u001b[1;32m     25\u001b[0m                   \u001b[0moptimizer\u001b[0m\u001b[0;34m=\u001b[0m\u001b[0;34m'Adam'\u001b[0m\u001b[0;34m,\u001b[0m \u001b[0moptimizer_param\u001b[0m\u001b[0;34m=\u001b[0m\u001b[0;34m{\u001b[0m\u001b[0;34m'lr'\u001b[0m\u001b[0;34m:\u001b[0m \u001b[0;36m0.001\u001b[0m\u001b[0;34m}\u001b[0m\u001b[0;34m,\u001b[0m\u001b[0;34m\u001b[0m\u001b[0m\n\u001b[1;32m     26\u001b[0m                   evaluate_sample_num_per_epoch=1000)\n\u001b[0;32m---> 27\u001b[0;31m \u001b[0mtrainer\u001b[0m\u001b[0;34m.\u001b[0m\u001b[0mtrain\u001b[0m\u001b[0;34m(\u001b[0m\u001b[0;34m)\u001b[0m\u001b[0;34m\u001b[0m\u001b[0m\n\u001b[0m\u001b[1;32m     28\u001b[0m \u001b[0;34m\u001b[0m\u001b[0m\n\u001b[1;32m     29\u001b[0m \u001b[0;31m# パラメータの保存\u001b[0m\u001b[0;34m\u001b[0m\u001b[0;34m\u001b[0m\u001b[0m\n",
      "\u001b[0;32m/Users/hiroshimashu/Desktop/Grit/common/trainer.py\u001b[0m in \u001b[0;36mtrain\u001b[0;34m(self)\u001b[0m\n\u001b[1;32m     69\u001b[0m     \u001b[0;32mdef\u001b[0m \u001b[0mtrain\u001b[0m\u001b[0;34m(\u001b[0m\u001b[0mself\u001b[0m\u001b[0;34m)\u001b[0m\u001b[0;34m:\u001b[0m\u001b[0;34m\u001b[0m\u001b[0m\n\u001b[1;32m     70\u001b[0m         \u001b[0;32mfor\u001b[0m \u001b[0mi\u001b[0m \u001b[0;32min\u001b[0m \u001b[0mrange\u001b[0m\u001b[0;34m(\u001b[0m\u001b[0mself\u001b[0m\u001b[0;34m.\u001b[0m\u001b[0mmax_iter\u001b[0m\u001b[0;34m)\u001b[0m\u001b[0;34m:\u001b[0m\u001b[0;34m\u001b[0m\u001b[0m\n\u001b[0;32m---> 71\u001b[0;31m             \u001b[0mself\u001b[0m\u001b[0;34m.\u001b[0m\u001b[0mtrain_step\u001b[0m\u001b[0;34m(\u001b[0m\u001b[0;34m)\u001b[0m\u001b[0;34m\u001b[0m\u001b[0m\n\u001b[0m\u001b[1;32m     72\u001b[0m \u001b[0;34m\u001b[0m\u001b[0m\n\u001b[1;32m     73\u001b[0m         \u001b[0mtest_acc\u001b[0m \u001b[0;34m=\u001b[0m \u001b[0mself\u001b[0m\u001b[0;34m.\u001b[0m\u001b[0mnetwork\u001b[0m\u001b[0;34m.\u001b[0m\u001b[0maccuracy\u001b[0m\u001b[0;34m(\u001b[0m\u001b[0mself\u001b[0m\u001b[0;34m.\u001b[0m\u001b[0mx_test\u001b[0m\u001b[0;34m,\u001b[0m \u001b[0mself\u001b[0m\u001b[0;34m.\u001b[0m\u001b[0mt_test\u001b[0m\u001b[0;34m)\u001b[0m\u001b[0;34m\u001b[0m\u001b[0m\n",
      "\u001b[0;32m/Users/hiroshimashu/Desktop/Grit/common/trainer.py\u001b[0m in \u001b[0;36mtrain_step\u001b[0;34m(self)\u001b[0m\n\u001b[1;32m     42\u001b[0m         \u001b[0mt_batch\u001b[0m \u001b[0;34m=\u001b[0m \u001b[0mself\u001b[0m\u001b[0;34m.\u001b[0m\u001b[0mt_train\u001b[0m\u001b[0;34m[\u001b[0m\u001b[0mbatch_mask\u001b[0m\u001b[0;34m]\u001b[0m\u001b[0;34m\u001b[0m\u001b[0m\n\u001b[1;32m     43\u001b[0m \u001b[0;34m\u001b[0m\u001b[0m\n\u001b[0;32m---> 44\u001b[0;31m         \u001b[0mgrads\u001b[0m \u001b[0;34m=\u001b[0m \u001b[0mself\u001b[0m\u001b[0;34m.\u001b[0m\u001b[0mnetwork\u001b[0m\u001b[0;34m.\u001b[0m\u001b[0mgradient\u001b[0m\u001b[0;34m(\u001b[0m\u001b[0mx_batch\u001b[0m\u001b[0;34m,\u001b[0m \u001b[0mt_batch\u001b[0m\u001b[0;34m)\u001b[0m\u001b[0;34m\u001b[0m\u001b[0m\n\u001b[0m\u001b[1;32m     45\u001b[0m         \u001b[0mself\u001b[0m\u001b[0;34m.\u001b[0m\u001b[0moptimizer\u001b[0m\u001b[0;34m.\u001b[0m\u001b[0mupdate\u001b[0m\u001b[0;34m(\u001b[0m\u001b[0mself\u001b[0m\u001b[0;34m.\u001b[0m\u001b[0mnetwork\u001b[0m\u001b[0;34m.\u001b[0m\u001b[0mparams\u001b[0m\u001b[0;34m,\u001b[0m \u001b[0mgrads\u001b[0m\u001b[0;34m)\u001b[0m\u001b[0;34m\u001b[0m\u001b[0m\n\u001b[1;32m     46\u001b[0m \u001b[0;34m\u001b[0m\u001b[0m\n",
      "\u001b[0;32m/Users/hiroshimashu/Desktop/Grit/simple_convnet.py\u001b[0m in \u001b[0;36mgradient\u001b[0;34m(self, x, t)\u001b[0m\n\u001b[1;32m    124\u001b[0m         \"\"\"\n\u001b[1;32m    125\u001b[0m         \u001b[0;31m# forward\u001b[0m\u001b[0;34m\u001b[0m\u001b[0;34m\u001b[0m\u001b[0m\n\u001b[0;32m--> 126\u001b[0;31m         \u001b[0mself\u001b[0m\u001b[0;34m.\u001b[0m\u001b[0mloss\u001b[0m\u001b[0;34m(\u001b[0m\u001b[0mx\u001b[0m\u001b[0;34m,\u001b[0m \u001b[0mt\u001b[0m\u001b[0;34m)\u001b[0m\u001b[0;34m\u001b[0m\u001b[0m\n\u001b[0m\u001b[1;32m    127\u001b[0m \u001b[0;34m\u001b[0m\u001b[0m\n\u001b[1;32m    128\u001b[0m         \u001b[0;31m# backward\u001b[0m\u001b[0;34m\u001b[0m\u001b[0;34m\u001b[0m\u001b[0m\n",
      "\u001b[0;32m/Users/hiroshimashu/Desktop/Grit/simple_convnet.py\u001b[0m in \u001b[0;36mloss\u001b[0;34m(self, x, t)\u001b[0m\n\u001b[1;32m     70\u001b[0m         \"\"\"\n\u001b[1;32m     71\u001b[0m         \u001b[0my\u001b[0m \u001b[0;34m=\u001b[0m \u001b[0mself\u001b[0m\u001b[0;34m.\u001b[0m\u001b[0mpredict\u001b[0m\u001b[0;34m(\u001b[0m\u001b[0mx\u001b[0m\u001b[0;34m)\u001b[0m\u001b[0;34m\u001b[0m\u001b[0m\n\u001b[0;32m---> 72\u001b[0;31m         \u001b[0;32mreturn\u001b[0m \u001b[0mself\u001b[0m\u001b[0;34m.\u001b[0m\u001b[0mlast_layer\u001b[0m\u001b[0;34m.\u001b[0m\u001b[0mforward\u001b[0m\u001b[0;34m(\u001b[0m\u001b[0my\u001b[0m\u001b[0;34m,\u001b[0m \u001b[0mt\u001b[0m\u001b[0;34m)\u001b[0m\u001b[0;34m\u001b[0m\u001b[0m\n\u001b[0m\u001b[1;32m     73\u001b[0m \u001b[0;34m\u001b[0m\u001b[0m\n\u001b[1;32m     74\u001b[0m     \u001b[0;32mdef\u001b[0m \u001b[0maccuracy\u001b[0m\u001b[0;34m(\u001b[0m\u001b[0mself\u001b[0m\u001b[0;34m,\u001b[0m \u001b[0mx\u001b[0m\u001b[0;34m,\u001b[0m \u001b[0mt\u001b[0m\u001b[0;34m,\u001b[0m \u001b[0mbatch_size\u001b[0m\u001b[0;34m=\u001b[0m\u001b[0;36m100\u001b[0m\u001b[0;34m)\u001b[0m\u001b[0;34m:\u001b[0m\u001b[0;34m\u001b[0m\u001b[0m\n",
      "\u001b[0;32m/Users/hiroshimashu/Desktop/Grit/common/layers.py\u001b[0m in \u001b[0;36mforward\u001b[0;34m(self, x, t)\u001b[0m\n\u001b[1;32m     77\u001b[0m         \u001b[0mself\u001b[0m\u001b[0;34m.\u001b[0m\u001b[0mt\u001b[0m \u001b[0;34m=\u001b[0m \u001b[0mt\u001b[0m\u001b[0;34m\u001b[0m\u001b[0m\n\u001b[1;32m     78\u001b[0m         \u001b[0mself\u001b[0m\u001b[0;34m.\u001b[0m\u001b[0my\u001b[0m \u001b[0;34m=\u001b[0m \u001b[0msoftmax\u001b[0m\u001b[0;34m(\u001b[0m\u001b[0mx\u001b[0m\u001b[0;34m)\u001b[0m\u001b[0;34m\u001b[0m\u001b[0m\n\u001b[0;32m---> 79\u001b[0;31m         \u001b[0mself\u001b[0m\u001b[0;34m.\u001b[0m\u001b[0mloss\u001b[0m \u001b[0;34m=\u001b[0m \u001b[0mcross_entropy_error\u001b[0m\u001b[0;34m(\u001b[0m\u001b[0mself\u001b[0m\u001b[0;34m.\u001b[0m\u001b[0my\u001b[0m\u001b[0;34m,\u001b[0m \u001b[0mself\u001b[0m\u001b[0;34m.\u001b[0m\u001b[0mt\u001b[0m\u001b[0;34m)\u001b[0m\u001b[0;34m\u001b[0m\u001b[0m\n\u001b[0m\u001b[1;32m     80\u001b[0m \u001b[0;34m\u001b[0m\u001b[0m\n\u001b[1;32m     81\u001b[0m         \u001b[0;32mreturn\u001b[0m \u001b[0mself\u001b[0m\u001b[0;34m.\u001b[0m\u001b[0mloss\u001b[0m\u001b[0;34m\u001b[0m\u001b[0m\n",
      "\u001b[0;32m/Users/hiroshimashu/Desktop/Grit/common/functions.py\u001b[0m in \u001b[0;36mcross_entropy_error\u001b[0;34m(y, t)\u001b[0m\n\u001b[1;32m     58\u001b[0m         \u001b[0mprint\u001b[0m\u001b[0;34m(\u001b[0m\u001b[0mt\u001b[0m\u001b[0;34m)\u001b[0m\u001b[0;34m\u001b[0m\u001b[0m\n\u001b[1;32m     59\u001b[0m     \u001b[0mbatch_size\u001b[0m \u001b[0;34m=\u001b[0m \u001b[0my\u001b[0m\u001b[0;34m.\u001b[0m\u001b[0mshape\u001b[0m\u001b[0;34m[\u001b[0m\u001b[0;36m0\u001b[0m\u001b[0;34m]\u001b[0m\u001b[0;34m\u001b[0m\u001b[0m\n\u001b[0;32m---> 60\u001b[0;31m     \u001b[0;32mreturn\u001b[0m \u001b[0;34m-\u001b[0m\u001b[0mnp\u001b[0m\u001b[0;34m.\u001b[0m\u001b[0msum\u001b[0m\u001b[0;34m(\u001b[0m\u001b[0mnp\u001b[0m\u001b[0;34m.\u001b[0m\u001b[0mlog\u001b[0m\u001b[0;34m(\u001b[0m\u001b[0my\u001b[0m\u001b[0;34m[\u001b[0m\u001b[0mnp\u001b[0m\u001b[0;34m.\u001b[0m\u001b[0marange\u001b[0m\u001b[0;34m(\u001b[0m\u001b[0mbatch_size\u001b[0m\u001b[0;34m)\u001b[0m\u001b[0;34m,\u001b[0m \u001b[0mt\u001b[0m\u001b[0;34m]\u001b[0m\u001b[0;34m)\u001b[0m\u001b[0;34m)\u001b[0m \u001b[0;34m/\u001b[0m \u001b[0mbatch_size\u001b[0m\u001b[0;34m\u001b[0m\u001b[0m\n\u001b[0m\u001b[1;32m     61\u001b[0m \u001b[0;34m\u001b[0m\u001b[0m\n\u001b[1;32m     62\u001b[0m \u001b[0;34m\u001b[0m\u001b[0m\n",
      "\u001b[0;31mIndexError\u001b[0m: shape mismatch: indexing arrays could not be broadcast together with shapes (100,) (100,48) "
     ]
    }
   ],
   "source": [
    "## CNN \n",
    "\n",
    "# coding: utf-8\n",
    "import sys, os\n",
    "sys.path.append(os.pardir)  # 親ディレクトリのファイルをインポートするための設定\n",
    "import numpy as np\n",
    "import matplotlib.pyplot as plt\n",
    "from simple_convnet import SimpleConvNet\n",
    "from common.trainer import Trainer\n",
    "\n",
    "\n",
    "\n",
    "# 処理に時間のかかる場合はデータを削減 \n",
    "#x_train, t_train = x_train[:5000], t_train[:5000]\n",
    "#x_test, t_test = x_test[:1000], t_test[:1000]\n",
    "\n",
    "max_epochs = 20\n",
    "\n",
    "network = SimpleConvNet(input_dim=(1,48,48), \n",
    "                        conv_param = {'filter_num': 30, 'filter_size': 5, 'pad': 0, 'stride': 1},\n",
    "                        hidden_size=100, output_size=10, weight_init_std=0.01)\n",
    "                        \n",
    "trainer = Trainer(network, x_train, y_train, x_test, y_test,\n",
    "                  epochs=max_epochs, mini_batch_size=100,\n",
    "                  optimizer='Adam', optimizer_param={'lr': 0.001},\n",
    "                  evaluate_sample_num_per_epoch=1000)\n",
    "trainer.train()\n",
    "\n",
    "# パラメータの保存\n",
    "network.save_params(\"params.pkl\")\n",
    "print(\"Saved Network Parameters!\")\n",
    "\n",
    "# グラフの描画\n",
    "markers = {'train': 'o', 'test': 's'}\n",
    "x = np.arange(max_epochs)\n",
    "plt.plot(x, trainer.train_acc_list, marker='o', label='train', markevery=2)\n",
    "plt.plot(x, trainer.test_acc_list, marker='s', label='test', markevery=2)\n",
    "plt.xlabel(\"epochs\")\n",
    "plt.ylabel(\"accuracy\")\n",
    "plt.ylim(0, 1.0)\n",
    "plt.legend(loc='lower right')\n",
    "plt.show()\n"
   ]
  },
  {
   "cell_type": "code",
   "execution_count": null,
   "metadata": {
    "collapsed": true
   },
   "outputs": [],
   "source": []
  }
 ],
 "metadata": {
  "kernelspec": {
   "display_name": "Python 3",
   "language": "python",
   "name": "python3"
  },
  "language_info": {
   "codemirror_mode": {
    "name": "ipython",
    "version": 3
   },
   "file_extension": ".py",
   "mimetype": "text/x-python",
   "name": "python",
   "nbconvert_exporter": "python",
   "pygments_lexer": "ipython3",
   "version": "3.5.3"
  }
 },
 "nbformat": 4,
 "nbformat_minor": 2
}
