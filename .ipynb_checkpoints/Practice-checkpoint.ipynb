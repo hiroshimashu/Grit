{
 "cells": [
  {
   "cell_type": "code",
   "execution_count": 54,
   "metadata": {
    "collapsed": false
   },
   "outputs": [
    {
     "name": "stdout",
     "output_type": "stream",
     "text": [
      "Success!\n"
     ]
    }
   ],
   "source": [
    "#!/usr/bin/env python \n",
    "##from six.moves import urllib\n",
    "from scipy.io import loadmat\n",
    "##mnist_alternative_url = \"https://github.com/amplab/datascience-sp14/raw/master/lab7/mldata/mnist-original.mat\"\n",
    "##mnist_path = \"./mnist-original.mat\"\n",
    "##response = urllib.request.urlopen(mnist_alternative_url)\n",
    "##with open(mnist_path, \"wb\") as f:\n",
    "##        content = response.read()\n",
    "##        f.write(content)\n",
    "mnist_raw = loadmat(\"./mnist-original.mat\")\n",
    "mnist = {\n",
    "        \"data\": mnist_raw[\"data\"].T,\n",
    "        \"target\": mnist_raw[\"label\"][0],\n",
    "        \"COL_NAMES\": [\"label\", \"data\"],\n",
    "        \"DESCR\": \"mldata.org dataset: mnist-original\",\n",
    "        }\n",
    "print(\"Success!\")"
   ]
  },
  {
   "cell_type": "code",
   "execution_count": 55,
   "metadata": {
    "collapsed": false
   },
   "outputs": [
    {
     "name": "stdout",
     "output_type": "stream",
     "text": [
      "[[0 0 0 ..., 0 0 0]\n",
      " [0 0 0 ..., 0 0 0]\n",
      " [0 0 0 ..., 0 0 0]\n",
      " ..., \n",
      " [0 0 0 ..., 0 0 0]\n",
      " [0 0 0 ..., 0 0 0]\n",
      " [0 0 0 ..., 0 0 0]]\n",
      "[[ 0.  0.  0. ...,  0.  0.  0.]\n",
      " [ 0.  0.  0. ...,  0.  0.  0.]\n",
      " [ 0.  0.  0. ...,  0.  0.  0.]\n",
      " ..., \n",
      " [ 0.  0.  0. ...,  0.  0.  0.]\n",
      " [ 0.  0.  0. ...,  0.  0.  0.]\n",
      " [ 0.  0.  0. ...,  0.  0.  0.]]\n",
      "[[ 0.  0.  0. ...,  0.  0.  0.]\n",
      " [ 0.  0.  0. ...,  0.  0.  0.]\n",
      " [ 0.  0.  0. ...,  0.  0.  0.]\n",
      " ..., \n",
      " [ 0.  0.  0. ...,  0.  0.  0.]\n",
      " [ 0.  0.  0. ...,  0.  0.  0.]\n",
      " [ 0.  0.  0. ...,  0.  0.  0.]]\n",
      "(63000, 784)\n"
     ]
    }
   ],
   "source": [
    "import numpy as np\n",
    "import matplotlib.pyplot as plt \n",
    "from common.functions import *\n",
    "\n",
    "from sklearn import preprocessing\n",
    "from sklearn.datasets import fetch_mldata\n",
    "from sklearn.model_selection import train_test_split \n",
    "from sklearn.metrics import confusion_matrix\n",
    "from sklearn.metrics import classification_report\n",
    "\n",
    "\n",
    "X=mnist[\"data\"] \n",
    "\n",
    "Y=mnist[\"target\"] \n",
    "x_train, x_test, y_train_label, y_test_label = train_test_split(X, Y, test_size=0.1) \n",
    "print(x_train)\n",
    "x_train = x_train.astype(np.float32) \n",
    "x_train = x_train / 255.0   \n",
    "x_test = x_test.astype(np.float32) \n",
    "x_test = x_test / 255.0   \n",
    "print(x_train) \n",
    "print(x_test)\n",
    "print(x_train.shape)\n",
    "            "
   ]
  },
  {
   "cell_type": "code",
   "execution_count": 26,
   "metadata": {
    "collapsed": false
   },
   "outputs": [
    {
     "data": {
      "text/plain": [
       "(70000,)"
      ]
     },
     "execution_count": 26,
     "metadata": {},
     "output_type": "execute_result"
    }
   ],
   "source": [
    "Y.shape  "
   ]
  },
  {
   "cell_type": "code",
   "execution_count": 56,
   "metadata": {
    "collapsed": false
   },
   "outputs": [],
   "source": [
    "y_train = preprocessing.LabelBinarizer().fit_transform(y_train_label)\n",
    "y_test = preprocessing.LabelBinarizer().fit_transform(y_test_label)"
   ]
  },
  {
   "cell_type": "code",
   "execution_count": 28,
   "metadata": {
    "collapsed": false
   },
   "outputs": [
    {
     "name": "stdout",
     "output_type": "stream",
     "text": [
      "[[0 0 0 ..., 0 0 0]\n",
      " [0 0 0 ..., 0 0 0]\n",
      " [0 0 0 ..., 1 0 0]\n",
      " ..., \n",
      " [0 0 0 ..., 0 0 0]\n",
      " [0 0 0 ..., 0 0 0]\n",
      " [0 0 0 ..., 1 0 0]]\n"
     ]
    }
   ],
   "source": [
    "print(y_train)"
   ]
  },
  {
   "cell_type": "code",
   "execution_count": 29,
   "metadata": {
    "collapsed": false
   },
   "outputs": [
    {
     "name": "stdout",
     "output_type": "stream",
     "text": [
      "[[1 0 0 ..., 0 0 0]\n",
      " [0 0 1 ..., 0 0 0]\n",
      " [0 0 0 ..., 0 0 0]\n",
      " ..., \n",
      " [0 0 0 ..., 0 0 0]\n",
      " [0 0 1 ..., 0 0 0]\n",
      " [0 0 1 ..., 0 0 0]]\n"
     ]
    }
   ],
   "source": [
    "print(y_test)"
   ]
  },
  {
   "cell_type": "code",
   "execution_count": 30,
   "metadata": {
    "collapsed": false
   },
   "outputs": [
    {
     "name": "stdout",
     "output_type": "stream",
     "text": [
      "[[ 0.  0.  0. ...,  0.  0.  0.]\n",
      " [ 0.  0.  0. ...,  0.  0.  0.]\n",
      " [ 0.  0.  0. ...,  0.  0.  0.]\n",
      " ..., \n",
      " [ 0.  0.  0. ...,  0.  0.  0.]\n",
      " [ 0.  0.  0. ...,  0.  0.  0.]\n",
      " [ 0.  0.  0. ...,  0.  0.  0.]]\n"
     ]
    }
   ],
   "source": [
    "print(x_train)"
   ]
  },
  {
   "cell_type": "code",
   "execution_count": 31,
   "metadata": {
    "collapsed": false
   },
   "outputs": [
    {
     "data": {
      "text/plain": [
       "(7000, 10)"
      ]
     },
     "execution_count": 31,
     "metadata": {},
     "output_type": "execute_result"
    }
   ],
   "source": [
    "y_test.shape  \n"
   ]
  },
  {
   "cell_type": "code",
   "execution_count": 57,
   "metadata": {
    "collapsed": false
   },
   "outputs": [
    {
     "name": "stdout",
     "output_type": "stream",
     "text": [
      "630.0\n",
      "epoch:0, train acc:0.106301587302, test acc:0.107142857143, elapsed:1.22039794921875[sec]\n",
      "epoch:1, train acc:0.839984126984, test acc:0.835142857143, elapsed:1.0448329448699951[sec]\n",
      "epoch:2, train acc:0.88646031746, test acc:0.881428571429, elapsed:1.0668070316314697[sec]\n",
      "epoch:3, train acc:0.899634920635, test acc:0.897142857143, elapsed:1.1448020935058594[sec]\n",
      "epoch:4, train acc:0.909825396825, test acc:0.908571428571, elapsed:1.2193670272827148[sec]\n",
      "epoch:5, train acc:0.915174603175, test acc:0.914, elapsed:1.0900230407714844[sec]\n",
      "epoch:6, train acc:0.921365079365, test acc:0.920428571429, elapsed:1.0985851287841797[sec]\n",
      "epoch:7, train acc:0.925095238095, test acc:0.922571428571, elapsed:1.091602087020874[sec]\n",
      "epoch:8, train acc:0.931238095238, test acc:0.928714285714, elapsed:1.1216950416564941[sec]\n",
      "epoch:9, train acc:0.934079365079, test acc:0.929857142857, elapsed:1.0376310348510742[sec]\n",
      "epoch:10, train acc:0.936555555556, test acc:0.932571428571, elapsed:1.1174640655517578[sec]\n",
      "epoch:11, train acc:0.941079365079, test acc:0.934, elapsed:1.1840450763702393[sec]\n",
      "epoch:12, train acc:0.943888888889, test acc:0.937857142857, elapsed:1.1652421951293945[sec]\n",
      "epoch:13, train acc:0.947079365079, test acc:0.94, elapsed:1.1351768970489502[sec]\n",
      "epoch:14, train acc:0.948492063492, test acc:0.942571428571, elapsed:1.0930161476135254[sec]\n",
      "epoch:15, train acc:0.951777777778, test acc:0.946142857143, elapsed:1.2334251403808594[sec]\n",
      "epoch:16, train acc:0.953365079365, test acc:0.948857142857, elapsed:1.0814831256866455[sec]\n",
      "epoch:17, train acc:0.954698412698, test acc:0.951, elapsed:1.137666940689087[sec]\n",
      "epoch:18, train acc:0.957126984127, test acc:0.951571428571, elapsed:1.0440161228179932[sec]\n",
      "epoch:19, train acc:0.958825396825, test acc:0.954857142857, elapsed:1.1032719612121582[sec]\n",
      "epoch:20, train acc:0.959301587302, test acc:0.955142857143, elapsed:1.0920801162719727[sec]\n",
      "epoch:21, train acc:0.961650793651, test acc:0.955714285714, elapsed:1.0358331203460693[sec]\n",
      "epoch:22, train acc:0.962365079365, test acc:0.957857142857, elapsed:1.1056888103485107[sec]\n",
      "epoch:23, train acc:0.96380952381, test acc:0.958428571429, elapsed:0.9588809013366699[sec]\n",
      "epoch:24, train acc:0.966063492063, test acc:0.959142857143, elapsed:0.7580409049987793[sec]\n",
      "epoch:25, train acc:0.966476190476, test acc:0.961, elapsed:0.9169449806213379[sec]\n",
      "epoch:26, train acc:0.967968253968, test acc:0.962142857143, elapsed:0.7781920433044434[sec]\n",
      "epoch:27, train acc:0.968936507937, test acc:0.962714285714, elapsed:0.8065710067749023[sec]\n",
      "epoch:28, train acc:0.969396825397, test acc:0.962, elapsed:0.7131621837615967[sec]\n",
      "epoch:29, train acc:0.970619047619, test acc:0.963714285714, elapsed:0.6987431049346924[sec]\n"
     ]
    },
    {
     "data": {
      "image/png": "[encoded data removed]",
      "text/plain": [
       "<matplotlib.figure.Figure at 0x128bff240>"
      ]
     },
     "metadata": {},
     "output_type": "display_data"
    }
   ],
   "source": [
    "import time\n",
    "from common.multi_layer_net import MultiLayerNet\n",
    "from common.optimizer import * \n",
    "\n",
    "weight_decay_lambda = 0 \n",
    "network = MultiLayerNet(input_size=784, hidden_size_list=[100, 100], output_size=10,\n",
    "                        activation=\"sigmoid\",weight_decay_lambda=weight_decay_lambda)\n",
    "optimizer = Momentum(lr=0.01) \n",
    "\n",
    "max_epochs = 30\n",
    "train_size = x_train.shape[0]\n",
    "batch_size = 100 \n",
    "\n",
    "train_loss_list = []\n",
    "train_acc_list = []\n",
    "test_acc_list = [] \n",
    "\n",
    "iter_per_epoch = max(train_size / batch_size, 1) \n",
    "print(iter_per_epoch)\n",
    "epoch_cnt = 0 \n",
    "\n",
    "for i in range(1000000000):\n",
    "    start = time.time()\n",
    "    batch_mask = np.random.choice(train_size, batch_size)\n",
    "    x_batch = x_train[batch_mask]\n",
    "    y_batch = y_train[batch_mask]\n",
    "\n",
    "    grads = network.gradient(x_batch, y_batch)\n",
    "    optimizer.update(network.params, grads)\n",
    "\n",
    "    if i % iter_per_epoch == 0:\n",
    "        train_acc = network.accuracy(x_train, y_train)\n",
    "        test_acc = network.accuracy(x_test, y_test)\n",
    "        train_acc_list.append(train_acc)\n",
    "        test_acc_list.append(test_acc) \n",
    "        end = time.time() - start\n",
    "\n",
    "        print(\"epoch:\" + str(epoch_cnt) + \", train acc:\" + str(train_acc) + \", test acc:\" + str(test_acc) + \", elapsed:{}\".format(end) + \"[sec]\")\n",
    "\n",
    "        epoch_cnt += 1\n",
    "        if epoch_cnt >= max_epochs:\n",
    "            break \n",
    "\n",
    "markers = {'train': 'o', 'test': 's'}\n",
    "x = np.arange(max_epochs)\n",
    "plt.plot(x, train_acc_list, marker='o', label='train', markevery=10)\n",
    "plt.plot(x, test_acc_list, marker='s', label='test', markevery=10)\n",
    "plt.xlabel(\"epochs\")\n",
    "plt.ylabel(\"accuracy\")\n",
    "plt.ylim(0, 1.0)\n",
    "plt.legend(loc='lower right')\n",
    "plt.show()            "
   ]
  },
  {
   "cell_type": "code",
   "execution_count": null,
   "metadata": {
    "collapsed": true
   },
   "outputs": [],
   "source": []
  }
 ],
 "metadata": {
  "kernelspec": {
   "display_name": "Python 3",
   "language": "python",
   "name": "python3"
  },
  "language_info": {
   "codemirror_mode": {
    "name": "ipython",
    "version": 3
   },
   "file_extension": ".py",
   "mimetype": "text/x-python",
   "name": "python",
   "nbconvert_exporter": "python",
   "pygments_lexer": "ipython3",
   "version": "3.5.3"
  }
 },
 "nbformat": 4,
 "nbformat_minor": 2
}
