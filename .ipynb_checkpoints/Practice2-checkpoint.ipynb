{
 "cells": [
  {
   "cell_type": "code",
   "execution_count": 29,
   "metadata": {
    "collapsed": false
   },
   "outputs": [
    {
     "name": "stdout",
     "output_type": "stream",
     "text": [
      "{b'data': array([[[ 1.,  1.,  1., ...,  1.,  1.,  1.],\n",
      "        [ 1.,  1.,  1., ...,  1.,  1.,  1.],\n",
      "        [ 1.,  1.,  1., ...,  1.,  1.,  1.],\n",
      "        ..., \n",
      "        [ 1.,  1.,  1., ...,  1.,  1.,  1.],\n",
      "        [ 1.,  1.,  1., ...,  1.,  1.,  1.],\n",
      "        [ 1.,  1.,  1., ...,  1.,  1.,  1.]],\n",
      "\n",
      "       [[ 1.,  1.,  1., ...,  1.,  1.,  1.],\n",
      "        [ 1.,  1.,  1., ...,  1.,  1.,  1.],\n",
      "        [ 1.,  1.,  1., ...,  1.,  1.,  1.],\n",
      "        ..., \n",
      "        [ 1.,  1.,  1., ...,  1.,  1.,  1.],\n",
      "        [ 1.,  1.,  1., ...,  1.,  1.,  1.],\n",
      "        [ 1.,  1.,  1., ...,  1.,  1.,  1.]],\n",
      "\n",
      "       [[ 1.,  1.,  1., ...,  1.,  1.,  1.],\n",
      "        [ 1.,  1.,  1., ...,  1.,  1.,  1.],\n",
      "        [ 1.,  1.,  1., ...,  1.,  1.,  1.],\n",
      "        ..., \n",
      "        [ 1.,  1.,  1., ...,  1.,  1.,  1.],\n",
      "        [ 1.,  1.,  1., ...,  1.,  1.,  1.],\n",
      "        [ 1.,  1.,  1., ...,  1.,  1.,  1.]],\n",
      "\n",
      "       ..., \n",
      "       [[ 1.,  1.,  1., ...,  1.,  1.,  1.],\n",
      "        [ 1.,  1.,  1., ...,  1.,  1.,  1.],\n",
      "        [ 1.,  1.,  1., ...,  1.,  1.,  1.],\n",
      "        ..., \n",
      "        [ 1.,  1.,  1., ...,  1.,  1.,  1.],\n",
      "        [ 1.,  1.,  1., ...,  1.,  1.,  1.],\n",
      "        [ 1.,  1.,  1., ...,  1.,  1.,  1.]],\n",
      "\n",
      "       [[ 1.,  1.,  1., ...,  1.,  1.,  1.],\n",
      "        [ 1.,  1.,  1., ...,  1.,  1.,  1.],\n",
      "        [ 1.,  1.,  1., ...,  1.,  1.,  1.],\n",
      "        ..., \n",
      "        [ 1.,  1.,  1., ...,  1.,  1.,  1.],\n",
      "        [ 1.,  1.,  1., ...,  1.,  1.,  1.],\n",
      "        [ 1.,  1.,  1., ...,  1.,  1.,  1.]],\n",
      "\n",
      "       [[ 1.,  1.,  1., ...,  1.,  1.,  1.],\n",
      "        [ 1.,  1.,  1., ...,  1.,  1.,  1.],\n",
      "        [ 1.,  1.,  1., ...,  1.,  1.,  1.],\n",
      "        ..., \n",
      "        [ 1.,  1.,  1., ...,  1.,  1.,  1.],\n",
      "        [ 1.,  1.,  1., ...,  1.,  1.,  1.],\n",
      "        [ 1.,  1.,  1., ...,  1.,  1.,  1.]]]), b'letter': ['あ', 'い', 'う', 'え', 'お', 'か', 'き', 'く', 'け', 'こ', 'さ', 'し', 'す', 'せ', 'そ', 'た', 'ち', 'つ', 'て', 'と', 'な', 'に', 'ぬ', 'ね', 'の', 'は', 'ひ', 'ふ', 'へ', 'ほ', 'ま', 'み', 'む', 'め', 'も', 'や', 'ゆ', 'よ', 'ら', 'り', 'る', 'れ', 'ろ', 'わ', 'ゐ', 'ゑ', 'を', 'ん'], b'target': array([34, 34, 34, ..., 17, 17, 17])}\n",
      "[[ 1.  1.  1. ...,  1.  1.  1.]\n",
      " [ 1.  1.  1. ...,  1.  1.  1.]\n",
      " [ 1.  1.  1. ...,  1.  1.  1.]\n",
      " ..., \n",
      " [ 1.  1.  1. ...,  1.  1.  1.]\n",
      " [ 1.  1.  1. ...,  1.  1.  1.]\n",
      " [ 1.  1.  1. ...,  1.  1.  1.]]\n",
      "[34 34 34 ..., 17 17 17]\n",
      "['あ', 'い', 'う', 'え', 'お', 'か', 'き', 'く', 'け', 'こ', 'さ', 'し', 'す', 'せ', 'そ', 'た', 'ち', 'つ', 'て', 'と', 'な', 'に', 'ぬ', 'ね', 'の', 'は', 'ひ', 'ふ', 'へ', 'ほ', 'ま', 'み', 'む', 'め', 'も', 'や', 'ゆ', 'よ', 'ら', 'り', 'る', 'れ', 'ろ', 'わ', 'ゐ', 'ゑ', 'を', 'ん']\n"
     ]
    }
   ],
   "source": [
    "## encoding: utf-8\n",
    "import pickle\n",
    "\n",
    "\n",
    "with open(\"./fonts.dat\", 'rb') as f:\n",
    "    ind = pickle.load(f, encoding = 'bytes')  \n",
    "    print(ind)\n",
    "X = ind[b\"data\"]\n",
    "X = X.reshape(-1, X.shape[1] * X.shape[2]) \n",
    "print(X)\n",
    "Y = ind[b\"target\"] \n",
    "print(Y)\n",
    "fonts_name = ind[b\"letter\"] \n",
    "print(fonts_name)"
   ]
  },
  {
   "cell_type": "code",
   "execution_count": 32,
   "metadata": {
    "collapsed": false
   },
   "outputs": [
    {
     "data": {
      "text/plain": [
       "(1180, 2304)"
      ]
     },
     "execution_count": 32,
     "metadata": {},
     "output_type": "execute_result"
    }
   ],
   "source": [
    "X.shape"
   ]
  },
  {
   "cell_type": "code",
   "execution_count": 33,
   "metadata": {
    "collapsed": false
   },
   "outputs": [
    {
     "data": {
      "text/plain": [
       "(1180,)"
      ]
     },
     "execution_count": 33,
     "metadata": {},
     "output_type": "execute_result"
    }
   ],
   "source": [
    "Y.shape  "
   ]
  },
  {
   "cell_type": "code",
   "execution_count": 60,
   "metadata": {
    "collapsed": false
   },
   "outputs": [
    {
     "name": "stdout",
     "output_type": "stream",
     "text": [
      "[[ 0.02122497  0.02122497  0.02122497 ...,  0.02122497  0.02122497\n",
      "   0.02122497]\n",
      " [ 0.02164907  0.02164907  0.02164907 ...,  0.02164907  0.02164907\n",
      "   0.02164907]\n",
      " [ 0.02237434  0.02237434  0.02237434 ...,  0.02237434  0.02237434\n",
      "   0.02237434]\n",
      " ..., \n",
      " [ 0.0221796   0.0221796   0.0221796  ...,  0.0221796   0.0221796\n",
      "   0.0221796 ]\n",
      " [ 0.02136432  0.02136432  0.02136432 ...,  0.02136432  0.02136432\n",
      "   0.02136432]\n",
      " [ 0.02137468  0.02137468  0.02137468 ...,  0.02137468  0.02137468\n",
      "   0.02137468]]\n",
      "[[ 0.02129473  0.02129473  0.02129473 ...,  0.02129473  0.02129473\n",
      "   0.02129473]\n",
      " [ 0.02129304  0.02129304  0.02129304 ...,  0.02129304  0.02129304\n",
      "   0.02129304]\n",
      " [ 0.02124658  0.02124658  0.02124658 ...,  0.02124658  0.02124658\n",
      "   0.02124658]\n",
      " ..., \n",
      " [ 0.02244072  0.02244072  0.02244072 ...,  0.02244072  0.02244072\n",
      "   0.02244072]\n",
      " [ 0.0212514   0.0212514   0.0212514  ...,  0.0212514   0.0212514\n",
      "   0.0212514 ]\n",
      " [ 0.02142082  0.02142082  0.02142082 ...,  0.02142082  0.02142082\n",
      "   0.02142082]]\n",
      "(1062, 2304)\n",
      "[[0 0 0 ..., 0 0 0]\n",
      " [0 0 0 ..., 0 0 0]\n",
      " [0 0 0 ..., 0 0 0]\n",
      " ..., \n",
      " [0 0 0 ..., 0 0 0]\n",
      " [0 0 0 ..., 0 0 0]\n",
      " [0 0 1 ..., 0 0 0]]\n",
      "[[0 0 0 ..., 0 0 0]\n",
      " [0 0 0 ..., 0 0 0]\n",
      " [0 0 0 ..., 0 0 0]\n",
      " ..., \n",
      " [0 0 0 ..., 0 0 0]\n",
      " [0 0 0 ..., 0 0 0]\n",
      " [0 0 0 ..., 0 0 0]]\n",
      "(1062, 48)\n"
     ]
    }
   ],
   "source": [
    "import numpy as np\n",
    "import matplotlib.pyplot as plt \n",
    "from common.functions import *\n",
    "\n",
    "from sklearn import preprocessing\n",
    "from sklearn.datasets import fetch_mldata\n",
    "from sklearn.model_selection import train_test_split \n",
    "from sklearn.metrics import confusion_matrix\n",
    "from sklearn.metrics import classification_report\n",
    "\n",
    "\n",
    "x_train, x_test, y_train_label, y_test_label = train_test_split(X, Y, test_size=0.1) \n",
    "x_train = x_train.astype(np.float32) \n",
    "x_train = preprocessing.normalize(x_train)\n",
    "x_test = x_test.astype(np.float32) \n",
    "x_test = preprocessing.normalize(x_test) \n",
    "print(x_train) \n",
    "print(x_test) \n",
    "\n",
    "y_train = preprocessing.LabelBinarizer().fit_transform(y_train_label)\n",
    "y_test = preprocessing.LabelBinarizer().fit_transform(y_test_label) \n",
    "print(x_train.shape)\n",
    "print(y_train) \n",
    "print(y_test) \n",
    "print(y_train.shape)"
   ]
  },
  {
   "cell_type": "code",
   "execution_count": null,
   "metadata": {
    "collapsed": false,
    "scrolled": false
   },
   "outputs": [],
   "source": [
    "import time\n",
    "from common.multi_layer_net import MultiLayerNet\n",
    "from common.optimizer import * \n",
    "\n",
    "weight_decay_lambda = 1 \n",
    "network = MultiLayerNet(input_size=2304, hidden_size_list=[100, 100], output_size=48,\n",
    "                        activation = \"sigmoid\", weight_decay_lambda=weight_decay_lambda)\n",
    "optimizer = Adam()  \n",
    "\n",
    "max_epochs = 30\n",
    "train_size = x_train.shape[0] \n",
    "batch_size = 1\n",
    "\n",
    "train_loss_list = []\n",
    "train_acc_list = []\n",
    "test_acc_list = [] \n",
    "\n",
    "iter_per_epoch = max(train_size / batch_size, 1)  \n",
    "print(iter_per_epoch)\n",
    "\n",
    "epoch_cnt = 0 \n",
    "\n",
    "for i in range(100000):\n",
    "    start = time.time()\n",
    "    batch_mask = np.random.choice(train_size, batch_size) \n",
    "    x_batch = x_train[batch_mask] \n",
    "    y_batch = y_train[batch_mask]\n",
    "    \n",
    "    grads = network.gradient(x_batch, y_batch)\n",
    "    optimizer.update(network.params, grads)\n",
    "\n",
    "    if i % iter_per_epoch == 0:\n",
    "        train_acc = network.accuracy(x_train, y_train)\n",
    "        test_acc = network.accuracy(x_test, y_test)\n",
    "        train_acc_list.append(train_acc)\n",
    "        test_acc_list.append(test_acc) \n",
    "        end = time.time() - start\n",
    "\n",
    "        print(\"epoch:\" + str(epoch_cnt) + \", train acc:\" + str(train_acc) + \", test acc:\" + str(test_acc) + \", elapsed:{}\".format(end) + \"[sec]\")\n",
    "\n",
    "\n",
    "        epoch_cnt += 1\n",
    "        if epoch_cnt >= max_epochs:\n",
    "            break \n",
    "\n",
    "\n",
    "markers = {'train': 'o', 'test': 's'}\n",
    "x = np.arange(max_epochs)\n",
    "plt.plot(x, train_acc_list, marker='o', label='train', markevery=10)\n",
    "plt.plot(x, test_acc_list, marker='s', label='test', markevery=10)\n",
    "plt.xlabel(\"epochs\")\n",
    "plt.ylabel(\"accuracy\")\n",
    "plt.ylim(0, 1.0)\n",
    "plt.legend(loc='lower right')\n",
    "plt.show()            "
   ]
  },
  {
   "cell_type": "code",
   "execution_count": null,
   "metadata": {
    "collapsed": true
   },
   "outputs": [],
   "source": [
    "## 5 * 2 cross-validation \n",
    "\n",
    "\n",
    "\n"
   ]
  }
 ],
 "metadata": {
  "kernelspec": {
   "display_name": "Python 3",
   "language": "python",
   "name": "python3"
  },
  "language_info": {
   "codemirror_mode": {
    "name": "ipython",
    "version": 3
   },
   "file_extension": ".py",
   "mimetype": "text/x-python",
   "name": "python",
   "nbconvert_exporter": "python",
   "pygments_lexer": "ipython3",
   "version": "3.5.3"
  }
 },
 "nbformat": 4,
 "nbformat_minor": 2
}
